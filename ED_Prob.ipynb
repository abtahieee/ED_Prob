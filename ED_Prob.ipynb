{
 "cells": [
  {
   "cell_type": "code",
   "execution_count": 659,
   "id": "8e153e0e",
   "metadata": {},
   "outputs": [],
   "source": [
    "import pandapower as pp\n",
    "import pandapower.networks as nw\n",
    "import pandas as pd\n",
    "import gurobipy as gp\n",
    "from gurobipy import GRB\n",
    "import numpy as np"
   ]
  },
  {
   "cell_type": "code",
   "execution_count": 660,
   "id": "0bc3cb7e",
   "metadata": {},
   "outputs": [],
   "source": [
    "net = nw.case30()"
   ]
  },
  {
   "cell_type": "code",
   "execution_count": 661,
   "id": "78aac9e5",
   "metadata": {},
   "outputs": [],
   "source": [
    "gen = net.gen\n",
    "ext_grid = net.ext_grid"
   ]
  },
  {
   "cell_type": "code",
   "execution_count": 662,
   "id": "0f50c5b8",
   "metadata": {},
   "outputs": [],
   "source": [
    "load_tot = net.load.p_mw.sum()"
   ]
  },
  {
   "cell_type": "code",
   "execution_count": 663,
   "id": "2a3fcd1f",
   "metadata": {},
   "outputs": [],
   "source": [
    "dis_load = [[0,30]]\n",
    "disp_load = pd.DataFrame(dis_load, columns=['min_p','max_p'])"
   ]
  },
  {
   "cell_type": "code",
   "execution_count": 664,
   "id": "dfdcc2fa",
   "metadata": {},
   "outputs": [],
   "source": [
    "var_g = [[0,150]]\n",
    "var_gen = pd.DataFrame(var_g, columns=['min_p','max_p'])\n",
    "variatio = [[1],[0.9],[0.80],[0.7]]\n",
    "var = pd.DataFrame(variatio, columns=['cap']) "
   ]
  },
  {
   "cell_type": "code",
   "execution_count": 665,
   "id": "bbad7694",
   "metadata": {},
   "outputs": [],
   "source": [
    "dem_data = [[load_tot],[load_tot+10],[load_tot+300],[load_tot+50]]\n",
    "dem = pd.DataFrame(dem_data, columns=['Demand'])"
   ]
  },
  {
   "cell_type": "code",
   "execution_count": 666,
   "id": "8772c5f2",
   "metadata": {},
   "outputs": [],
   "source": [
    "gen_idx = gen.index\n",
    "ext_grid_idx = ext_grid.index\n",
    "disp_load_idx = disp_load.index\n",
    "var_gen_idx = var_gen.index\n",
    "dem_idx = dem.index\n",
    "nTime = 4\n",
    "#var_count = 1"
   ]
  },
  {
   "cell_type": "code",
   "execution_count": 667,
   "id": "5eb45bc1",
   "metadata": {},
   "outputs": [],
   "source": [
    "#Storage\n",
    "Cap = 100\n",
    "SOC_ini = 0.3\n",
    "SOC_exp = 0.5\n",
    "eta_c = 0.98\n",
    "eta_d = 0.95"
   ]
  },
  {
   "cell_type": "code",
   "execution_count": 668,
   "id": "d1bacb5f",
   "metadata": {},
   "outputs": [],
   "source": [
    "pen_disp = 100\n",
    "res_pen_fac = 0.2"
   ]
  },
  {
   "cell_type": "code",
   "execution_count": 669,
   "id": "e8776649",
   "metadata": {},
   "outputs": [],
   "source": [
    "model = gp.Model('ED_Look')\n",
    "out_gen = model.addVars(gen_idx,nTime,vtype=GRB.CONTINUOUS, name=\"genout\")\n",
    "out_grid = model.addVars(ext_grid_idx,nTime,vtype=GRB.CONTINUOUS, name=\"gridout\")\n",
    "dis_l = model.addVars(disp_load_idx,nTime,vtype=GRB.CONTINUOUS, name=\"dispout\")\n",
    "out_var = model.addVars(var_gen_idx,nTime,vtype=GRB.CONTINUOUS, name=\"vargenout\")\n",
    "res_gvar = model.addVars(var_gen_idx,nTime,vtype=GRB.CONTINUOUS, name=\"resvargen\")\n",
    "res_displ = model.addVars(disp_load_idx,nTime,vtype=GRB.CONTINUOUS, name=\"resdisp\")\n",
    "#var_genout = model.addVars(var_count,nTime,vtype=GRB.CONTINUOUS, name=\"varout\")\n",
    "#flex_b = model.addVars(nTime, vtype=GRB.CONTINUOUS, name=\"flex_assignment\")\n",
    "SOC = model.addVars(nTime , vtype=GRB.CONTINUOUS , lb =0.2 , ub =0.9 , name ='SOC')\n",
    "Pc = model.addVars(nTime , vtype=GRB.CONTINUOUS , lb =0, ub =60 , name ='Pc')\n",
    "Pd = model.addVars(nTime , vtype=GRB.CONTINUOUS , lb =0, ub =60 , name ='Pd')\n",
    "reserve_es = model.addVars(nTime,vtype=GRB.CONTINUOUS, name=\"reses\")"
   ]
  },
  {
   "cell_type": "code",
   "execution_count": 670,
   "id": "04dceb0a",
   "metadata": {},
   "outputs": [],
   "source": [
    "a = np. array ([0.12 , 0.17 , 0.15 , 0.19, 0.21])\n",
    "b = np. array ([14.8 , 16.57 , 15.55 , 16.21, 18.50])\n",
    "c = np. array ([89 , 83, 100 , 70, 100])\n",
    "a_gr = np. array ([0.2])\n",
    "b_gr = np. array ([12])\n",
    "c_gr = np. array ([80])"
   ]
  },
  {
   "cell_type": "code",
   "execution_count": 671,
   "id": "7d4ec02c",
   "metadata": {},
   "outputs": [],
   "source": [
    "min_gr = model.addConstrs((out_grid[gr, p] >= ext_grid.loc[gr,'min_p_mw'])\n",
    "                              for gr in ext_grid_idx for p in range(nTime))\n",
    "\n",
    "#Max Gen Limit\n",
    "max_gr = model.addConstrs((out_grid[gr, p] <= ext_grid.loc[gr,'max_p_mw'])\n",
    "                              for gr in ext_grid_idx for p in range(nTime))\n",
    "\n",
    "\n",
    "min_g = model.addConstrs((out_gen[g, p] >= gen.loc[g,'min_p_mw'])\n",
    "                              for g in gen_idx for p in range(nTime))\n",
    "\n",
    "#Max Gen Limit\n",
    "max_g = model.addConstrs((out_gen[g, p] <= gen.loc[g,'max_p_mw'])\n",
    "                              for g in gen_idx for p in range(nTime))\n",
    "\n",
    "min_dis = model.addConstrs((dis_l[dl, p] >= disp_load.loc[dl,'min_p'])\n",
    "                              for dl in disp_load_idx for p in range(nTime))\n",
    "\n",
    "#Max disp Limit\n",
    "max_dis = model.addConstrs((dis_l[dl, p] <= disp_load.loc[dl,'max_p'])\n",
    "                              for dl in disp_load_idx for p in range(nTime))"
   ]
  },
  {
   "cell_type": "code",
   "execution_count": 672,
   "id": "f8d6b19c",
   "metadata": {},
   "outputs": [],
   "source": [
    "min_gvar = model.addConstrs((out_var[gvar, p] >= var_gen.loc[gvar,'min_p'])\n",
    "                              for gvar in var_gen_idx for p in range(nTime))\n",
    "\n",
    "#Max gvar Limit\n",
    "max_gvar = model.addConstrs((out_var[gvar, p] <= var_gen.loc[gvar,'max_p']*var.loc[p,'cap'])\n",
    "                              for gvar in var_gen_idx for p in range(nTime))"
   ]
  },
  {
   "cell_type": "code",
   "execution_count": 673,
   "id": "4a933195",
   "metadata": {},
   "outputs": [],
   "source": [
    "init_soc = model.addConstr(Cap *SOC [0] == Cap * SOC_ini +( Pc [0]* eta_c -Pd [0]/ eta_d ), name ='SOC_1')\n",
    "soc_t = model.addConstrs(( Cap *SOC [p] == Cap *SOC [p -1]+( Pc[p]* eta_c -Pd[p]/ eta_d ) for p in range (1, nTime)), 'SOC')\n",
    "final_soc = model.addConstr(Cap *SOC [3] == Cap * SOC_exp , name ='SOC_24')"
   ]
  },
  {
   "cell_type": "code",
   "execution_count": 674,
   "id": "941966e6",
   "metadata": {},
   "outputs": [],
   "source": [
    "meet_demand = model.addConstrs(gp.quicksum(out_gen[g, p] for g in gen_idx) + gp.quicksum(out_grid[gr, p] for gr in ext_grid_idx) + gp.quicksum(out_var[gvar, p] for gvar in var_gen_idx) + Pd[p] >= gp.quicksum(dis_l[dl, p] for dl in disp_load_idx) + dem.loc[p,'Demand'] + Pc[p] for p in range(nTime))"
   ]
  },
  {
   "cell_type": "code",
   "execution_count": 675,
   "id": "829ee850",
   "metadata": {},
   "outputs": [],
   "source": [
    "reserve_gvar = model.addConstrs(res_gvar[gvar,p] <= ((var_gen.loc[gvar,'max_p']*var.loc[p,'cap'])-out_var[gvar, p]) for gvar in var_gen_idx for p in range(nTime))"
   ]
  },
  {
   "cell_type": "code",
   "execution_count": 676,
   "id": "32ae8782",
   "metadata": {},
   "outputs": [],
   "source": [
    "reserve_dispload = model.addConstrs(res_displ[dl,p] <= (disp_load.loc[dl,'max_p']-dis_l[dl, p]) for dl in disp_load_idx for p in range(nTime))"
   ]
  },
  {
   "cell_type": "code",
   "execution_count": 677,
   "id": "6eca7176",
   "metadata": {},
   "outputs": [],
   "source": [
    "res_es = model.addConstrs(reserve_es[p] <= gp.quicksum(Pc[p] for p in range(nTime)) - Pd[p] for p in range(nTime))"
   ]
  },
  {
   "cell_type": "code",
   "execution_count": 678,
   "id": "8d161a23",
   "metadata": {},
   "outputs": [],
   "source": [
    "tot_reserve = model.addConstrs(gp.quicksum(res_gvar[gvar,p] for gvar in var_gen_idx) + gp.quicksum(res_displ[dl,p] for dl in disp_load_idx) + gp.quicksum(reserve_es[p] for p in range(nTime))\n",
    "                    >= 0.15*dem.loc[p,'Demand'] for p in range(nTime))"
   ]
  },
  {
   "cell_type": "code",
   "execution_count": 679,
   "id": "96848d1e",
   "metadata": {},
   "outputs": [],
   "source": [
    "res_cost = res_pen_fac*(gp.quicksum(10*res_gvar[gvar,p]\n",
    "                    for gvar in var_gen_idx for p in range(nTime)) + gp.quicksum(pen_disp*res_displ[dl,p]\n",
    "                    for dl in disp_load_idx for p in range(nTime)))"
   ]
  },
  {
   "cell_type": "code",
   "execution_count": 680,
   "id": "49c9512a",
   "metadata": {},
   "outputs": [],
   "source": [
    "g_cost = gp.quicksum(a[g]*out_gen[g, p]*out_gen[g, p]+b[g]*out_gen[g, p]+c[g] for p in range(nTime) for g in gen_idx)\n",
    "gr_cost = gp.quicksum(a_gr[gr]*out_grid[gr, p]*out_grid[gr, p]+b_gr[gr]*out_grid[gr, p]+c_gr[gr] for p in range(nTime) for gr in ext_grid_idx)"
   ]
  },
  {
   "cell_type": "code",
   "execution_count": 681,
   "id": "f2b9012d",
   "metadata": {},
   "outputs": [],
   "source": [
    "disp_cost = gp.quicksum(pen_disp*(disp_load.loc[dl,'max_p']-dis_l[dl, p]) for dl in disp_load_idx for p in range(nTime))"
   ]
  },
  {
   "cell_type": "code",
   "execution_count": 682,
   "id": "2f6a8a49",
   "metadata": {},
   "outputs": [],
   "source": [
    "var_cost = gp.quicksum(10*out_var[gvar, p] for gvar in var_gen_idx for p in range(nTime))"
   ]
  },
  {
   "cell_type": "code",
   "execution_count": 683,
   "id": "b0988964",
   "metadata": {},
   "outputs": [],
   "source": [
    "es_cost = gp.quicksum(50*reserve_es[p] for p in range(nTime))"
   ]
  },
  {
   "cell_type": "code",
   "execution_count": 684,
   "id": "c5fd1bcc",
   "metadata": {},
   "outputs": [
    {
     "name": "stdout",
     "output_type": "stream",
     "text": [
      "Gurobi Optimizer version 9.5.1 build v9.5.1rc2 (win64)\n",
      "Thread count: 4 physical cores, 8 logical processors, using up to 8 threads\n",
      "Optimize a model with 89 rows, 56 columns and 184 nonzeros\n",
      "Model fingerprint: 0xf96d1ae7\n",
      "Model has 24 quadratic objective terms\n",
      "Coefficient statistics:\n",
      "  Matrix range     [1e+00, 1e+02]\n",
      "  Objective range  [2e+00, 1e+02]\n",
      "  QObjective range [2e-01, 4e-01]\n",
      "  Bounds range     [2e-01, 6e+01]\n",
      "  RHS range        [3e+01, 5e+02]\n",
      "Presolve removed 66 rows and 2 columns\n",
      "Presolve time: 0.03s\n",
      "Presolved: 23 rows, 54 columns, 116 nonzeros\n",
      "Presolved model has 24 quadratic objective terms\n",
      "Ordering time: 0.00s\n",
      "\n",
      "Barrier statistics:\n",
      " AA' NZ     : 8.200e+01\n",
      " Factor NZ  : 2.120e+02\n",
      " Factor Ops : 2.340e+03 (less than 1 second per iteration)\n",
      " Threads    : 1\n",
      "\n",
      "                  Objective                Residual\n",
      "Iter       Primal          Dual         Primal    Dual     Compl     Time\n",
      "   0   3.71521180e+06 -7.01868753e+06  1.23e+03 8.82e+02  8.88e+05     0s\n",
      "   1   1.66781520e+05 -1.50383058e+06  2.83e+02 1.52e+02  1.57e+05     0s\n",
      "   2   1.12789989e+05 -1.05384679e+06  3.17e+01 1.60e+01  2.47e+04     0s\n",
      "   3   6.04939740e+04 -4.37353623e+05  3.14e+00 1.40e+00  5.21e+03     0s\n",
      "   4   4.78920909e+04 -4.01581271e+04  1.96e-06 1.40e-06  7.66e+02     0s\n",
      "   5   3.25307325e+04  1.92834843e+03  3.78e-07 2.70e-07  2.66e+02     0s\n",
      "   6   3.18375937e+04  1.68109493e+04  9.49e-08 6.77e-08  1.31e+02     0s\n",
      "   7   2.91264581e+04  2.42460740e+04  2.01e-08 1.43e-08  4.24e+01     0s\n",
      "   8   2.79072875e+04  2.71582665e+04  8.19e-10 5.85e-10  6.51e+00     0s\n",
      "   9   2.76757604e+04  2.75466619e+04  2.22e-15 8.79e-14  1.12e+00     0s\n",
      "  10   2.76440574e+04  2.76435864e+04  1.24e-14 3.55e-14  4.10e-03     0s\n",
      "  11   2.76439387e+04  2.76439382e+04  8.88e-16 1.14e-13  4.11e-06     0s\n",
      "  12   2.76439386e+04  2.76439386e+04  3.55e-15 5.21e-14  4.11e-09     0s\n",
      "\n",
      "Barrier solved model in 12 iterations and 0.12 seconds (0.00 work units)\n",
      "Optimal objective 2.76439386e+04\n",
      "\n"
     ]
    }
   ],
   "source": [
    "model.setObjective(g_cost + gr_cost + disp_cost+var_cost + res_cost + es_cost)\n",
    "model.optimize()"
   ]
  },
  {
   "cell_type": "code",
   "execution_count": 685,
   "id": "738e5f54",
   "metadata": {},
   "outputs": [
    {
     "data": {
      "text/plain": [
       "[<gurobi.Var genout[0,0] (value 29.13469155079294)>,\n",
       " <gurobi.Var genout[0,1] (value 29.134691567341743)>,\n",
       " <gurobi.Var genout[0,2] (value 79.99999999991306)>,\n",
       " <gurobi.Var genout[0,3] (value 46.66084381748668)>,\n",
       " <gurobi.Var genout[1,0] (value 15.359782271111717)>,\n",
       " <gurobi.Var genout[1,1] (value 15.35978228332771)>,\n",
       " <gurobi.Var genout[1,2] (value 49.99999999991393)>,\n",
       " <gurobi.Var genout[1,3] (value 27.731183871221983)>,\n",
       " <gurobi.Var genout[2,0] (value 20.80775324051318)>,\n",
       " <gurobi.Var genout[2,1] (value 20.807753254066018)>,\n",
       " <gurobi.Var genout[2,2] (value 54.99999999991694)>,\n",
       " <gurobi.Var genout[2,3] (value 34.8286750539244)>,\n",
       " <gurobi.Var genout[3,0] (value 14.690331505082954)>,\n",
       " <gurobi.Var genout[3,1] (value 14.690331516602956)>,\n",
       " <gurobi.Var genout[3,2] (value 29.999999999924658)>,\n",
       " <gurobi.Var genout[3,3] (value 25.759480287215986)>,\n",
       " <gurobi.Var genout[4,0] (value 7.838871362518709)>,\n",
       " <gurobi.Var genout[4,1] (value 7.838871374106688)>,\n",
       " <gurobi.Var genout[4,2] (value 39.99999999991024)>,\n",
       " <gurobi.Var genout[4,3] (value 17.853815515006527)>,\n",
       " <gurobi.Var gridout[0,0] (value 24.480814930594985)>,\n",
       " <gurobi.Var gridout[0,1] (value 24.48081494043894)>,\n",
       " <gurobi.Var gridout[0,2] (value 79.99999999988579)>,\n",
       " <gurobi.Var gridout[0,3] (value 34.99650629059913)>,\n",
       " <gurobi.Var dispout[0,0] (value 29.999999999914937)>,\n",
       " <gurobi.Var dispout[0,1] (value 29.99999999992056)>,\n",
       " <gurobi.Var dispout[0,2] (value 25.799999999055252)>,\n",
       " <gurobi.Var dispout[0,3] (value 29.99999999991481)>,\n",
       " <gurobi.Var vargenout[0,0] (value 149.99999999957186)>,\n",
       " <gurobi.Var vargenout[0,1] (value 134.9999999993151)>,\n",
       " <gurobi.Var vargenout[0,2] (value 119.99999999974303)>,\n",
       " <gurobi.Var vargenout[0,3] (value 104.99999999954903)>,\n",
       " <gurobi.Var resvargen[0,0] (value 2.0448996306668714e-10)>,\n",
       " <gurobi.Var resvargen[0,1] (value 3.121497125227331e-10)>,\n",
       " <gurobi.Var resvargen[0,2] (value 2.0181660989875312e-10)>,\n",
       " <gurobi.Var resvargen[0,3] (value 2.1224239425173004e-10)>,\n",
       " <gurobi.Var resdisp[0,0] (value 3.759041033663939e-11)>,\n",
       " <gurobi.Var resdisp[0,1] (value 3.53918916386309e-11)>,\n",
       " <gurobi.Var resdisp[0,2] (value 4.200000000807515)>,\n",
       " <gurobi.Var resdisp[0,3] (value 3.7634998845695454e-11)>,\n",
       " <gurobi.Var SOC[0] (value 0.7224999996272936)>,\n",
       " <gurobi.Var SOC[1] (value 0.8999999999864312)>,\n",
       " <gurobi.Var SOC[2] (value 0.26842105261956106)>,\n",
       " <gurobi.Var SOC[3] (value 0.5)>,\n",
       " <gurobi.Var Pc[0] (value 43.1122448628169)>,\n",
       " <gurobi.Var Pc[1] (value 18.112244941685834)>,\n",
       " <gurobi.Var Pc[2] (value 7.479743658078934e-11)>,\n",
       " <gurobi.Var Pc[3] (value 23.63050483773228)>,\n",
       " <gurobi.Var Pd[0] (value 2.689632916538851e-09)>,\n",
       " <gurobi.Var Pd[1] (value 6.5914337993659746e-09)>,\n",
       " <gurobi.Var Pd[2] (value 59.99999999992231)>,\n",
       " <gurobi.Var Pd[3] (value 2.787021894983516e-09)>,\n",
       " <gurobi.Var reses[0] (value 20.47930609167321)>,\n",
       " <gurobi.Var reses[1] (value 20.845969861203805)>,\n",
       " <gurobi.Var reses[2] (value 7.166493187780992)>,\n",
       " <gurobi.Var reses[3] (value 20.68823085840547)>]"
      ]
     },
     "execution_count": 685,
     "metadata": {},
     "output_type": "execute_result"
    }
   ],
   "source": [
    "v = model.getVars()\n",
    "v"
   ]
  },
  {
   "cell_type": "code",
   "execution_count": 686,
   "id": "fe8f8adf",
   "metadata": {},
   "outputs": [
    {
     "data": {
      "image/png": "[encoded data removed]",
      "text/plain": [
       "<Figure size 432x288 with 1 Axes>"
      ]
     },
     "metadata": {
      "needs_background": "light"
     },
     "output_type": "display_data"
    }
   ],
   "source": [
    "import matplotlib.pyplot as plt\n",
    "var_flex = pd.DataFrame([0.1,0.1,7.5,15],columns=['Var Gen'])\n",
    "es_flex = pd.DataFrame([9.6,10.3,10.3,5.5],columns=['ES'])\n",
    "disp_flex = pd.DataFrame([0.01,0.02,0.01,0],columns=['Disp Load'])\n",
    "ax = disp_flex.plot(label=\"Disp Load\", drawstyle=\"steps-post\")\n",
    "var_flex.plot(ax = ax, label=\"Var Gen\", drawstyle=\"steps-post\", color = 'r')\n",
    "es_flex.plot(ax = ax, label=\"ES\", drawstyle=\"steps-post\", color = 'b')\n",
    "plt.xlabel(\"Time Step\")\n",
    "plt.ylabel(\"MW\")\n",
    "plt.title(\"Increasing Demand\")\n",
    "plt.legend(loc = 'upper left',bbox_to_anchor=(0.1, 0.5, 0.5, 0.5))\n",
    "plt.grid()\n",
    "plt.show()\n",
    "#dem_data = [[load_tot],[load_tot+50],[load_tot+100],[load_tot+150]]"
   ]
  },
  {
   "cell_type": "code",
   "execution_count": 687,
   "id": "6ea7c6be",
   "metadata": {},
   "outputs": [
    {
     "data": {
      "image/png": "[encoded data removed]",
      "text/plain": [
       "<Figure size 432x288 with 1 Axes>"
      ]
     },
     "metadata": {
      "needs_background": "light"
     },
     "output_type": "display_data"
    }
   ],
   "source": [
    "import matplotlib.pyplot as plt\n",
    "var_flex = pd.DataFrame([15,7.5,0.1,0.1],columns=['Var Gen'])\n",
    "es_flex = pd.DataFrame([9.3,11.7,11,11.2],columns=['ES'])\n",
    "disp_flex = pd.DataFrame([0.01,0.02,0.01,0],columns=['Disp Load'])\n",
    "ax = disp_flex.plot(label=\"Disp Load\", drawstyle=\"steps-post\")\n",
    "var_flex.plot(ax = ax, label=\"Var Gen\", drawstyle=\"steps-post\", color = 'r')\n",
    "es_flex.plot(ax = ax, label=\"ES\", drawstyle=\"steps-post\", color = 'b')\n",
    "plt.xlabel(\"Time Step\")\n",
    "plt.ylabel(\"MW\")\n",
    "plt.title(\"Decreasing Demand\")\n",
    "plt.legend(loc = 'upper left',bbox_to_anchor=(0., 0.45, 0.5, 0.5))\n",
    "plt.grid()\n",
    "plt.show()\n",
    "#dem_data = [[load_tot+200],[load_tot+150],[load_tot+100],[load_tot+50]]"
   ]
  },
  {
   "cell_type": "code",
   "execution_count": 658,
   "id": "486288b1",
   "metadata": {},
   "outputs": [
    {
     "data": {
      "image/png": "[encoded data removed]",
      "text/plain": [
       "<Figure size 432x288 with 1 Axes>"
      ]
     },
     "metadata": {
      "needs_background": "light"
     },
     "output_type": "display_data"
    }
   ],
   "source": [
    "import matplotlib.pyplot as plt\n",
    "var_flex = pd.DataFrame([0.1,0.1,0.1,0.1],columns=['Var Gen'])\n",
    "es_flex = pd.DataFrame([20.4,20.8,7.11,20.68],columns=['ES'])\n",
    "disp_flex = pd.DataFrame([0.01,0.02,4.2,0],columns=['Disp Load'])\n",
    "ax = disp_flex.plot(label=\"Disp Load\", drawstyle=\"steps-post\")\n",
    "var_flex.plot(ax = ax, label=\"Var Gen\", drawstyle=\"steps-post\", color = 'r')\n",
    "es_flex.plot(ax = ax, label=\"ES\", drawstyle=\"steps-post\", color = 'b')\n",
    "plt.xlabel(\"Time Step\")\n",
    "plt.ylabel(\"MW\")\n",
    "plt.title(\"Decreasing Demand\")\n",
    "plt.legend(loc = 'upper left',bbox_to_anchor=(0., 0.25, 0.5, 0.5))\n",
    "plt.grid()\n",
    "plt.show()\n",
    "#dem_data = [[load_tot],[load_tot+10],[load_tot+300],[load_tot+50]]"
   ]
  }
 ],
 "metadata": {
  "kernelspec": {
   "display_name": "Python 3",
   "language": "python",
   "name": "python3"
  },
  "language_info": {
   "codemirror_mode": {
    "name": "ipython",
    "version": 3
   },
   "file_extension": ".py",
   "mimetype": "text/x-python",
   "name": "python",
   "nbconvert_exporter": "python",
   "pygments_lexer": "ipython3",
   "version": "3.8.8"
  }
 },
 "nbformat": 4,
 "nbformat_minor": 5
}
